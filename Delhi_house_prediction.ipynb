{
  "nbformat": 4,
  "nbformat_minor": 0,
  "metadata": {
    "colab": {
      "provenance": [],
      "authorship_tag": "ABX9TyNT1s/vHegc1JpHTASYo7FF",
      "include_colab_link": true
    },
    "kernelspec": {
      "name": "python3",
      "display_name": "Python 3"
    },
    "language_info": {
      "name": "python"
    }
  },
  "cells": [
    {
      "cell_type": "markdown",
      "metadata": {
        "id": "view-in-github",
        "colab_type": "text"
      },
      "source": [
        "<a href=\"https://colab.research.google.com/github/krishna886-ctrl/Default/blob/main/Delhi_house_prediction.ipynb\" target=\"_parent\"><img src=\"https://colab.research.google.com/assets/colab-badge.svg\" alt=\"Open In Colab\"/></a>"
      ]
    },
    {
      "cell_type": "code",
      "execution_count": 70,
      "metadata": {
        "id": "YWzq16FC3PHk"
      },
      "outputs": [],
      "source": [
        "import pandas as pd\n",
        "from sklearn.preprocessing import LabelEncoder, OneHotEncoder\n",
        "from sklearn.model_selection import train_test_split\n",
        "from sklearn import preprocessing\n",
        "from sklearn.linear_model import\n",
        "from sklearn.linear_model import LinearRegression\n"
      ]
    },
    {
      "cell_type": "code",
      "source": [
        "data = pd.read_csv(\"/content/Delhi_House_prediction.csv\")"
      ],
      "metadata": {
        "id": "FSR8sq3_3nlD"
      },
      "execution_count": 71,
      "outputs": []
    },
    {
      "cell_type": "code",
      "source": [
        "print(data)"
      ],
      "metadata": {
        "colab": {
          "base_uri": "https://localhost:8080/"
        },
        "id": "wpZyaCRT5Gct",
        "outputId": "56851556-94e6-46c1-c65b-255201848735"
      },
      "execution_count": 72,
      "outputs": [
        {
          "output_type": "stream",
          "name": "stdout",
          "text": [
            "        Area  BHK  Bathroom   Furnishing     Location       District  \\\n",
            "0      950.0    2       2.0    Furnished   Karol Bagh  Central Delhi   \n",
            "1      535.0    2       1.0    Furnished   Karol Bagh  Central Delhi   \n",
            "2     1280.0    3       3.0    Furnished   Karol Bagh  Central Delhi   \n",
            "3     1135.0    3       3.0    Furnished   Karol Bagh  Central Delhi   \n",
            "4     1135.0    3       3.0    Furnished   Karol Bagh  Central Delhi   \n",
            "...      ...  ...       ...          ...          ...            ...   \n",
            "1209  4688.0    5       4.0  Unfurnished  Patel Nagar     West Delhi   \n",
            "1210  3901.0    4       4.0  Unfurnished  Patel Nagar     West Delhi   \n",
            "1211  2306.0    3       3.0  Unfurnished  Patel Nagar     West Delhi   \n",
            "1212   675.0    2       1.0  Unfurnished  Uttam Nagar     West Delhi   \n",
            "1213   585.0    2       2.0  Unfurnished  Uttam Nagar     West Delhi   \n",
            "\n",
            "                                               Locality  Parking  \\\n",
            "0     DDA MIG Flats Prasad Nagar Phase 2, Prasad Nag...      1.0   \n",
            "1                                 Dev Nagar, Karol Bagh      1.0   \n",
            "2                                            Karol Bagh      2.0   \n",
            "3                             The Amaryllis, Karol Bagh      2.0   \n",
            "4                             The Amaryllis, Karol Bagh      2.0   \n",
            "...                                                 ...      ...   \n",
            "1209                  The Leela Sky Villas, Patel Nagar      1.0   \n",
            "1210                  The Leela Sky Villas, Patel Nagar      1.0   \n",
            "1211                  The Leela Sky Villas, Patel Nagar      1.0   \n",
            "1212                                        Uttam Nagar      1.0   \n",
            "1213                                        Uttam Nagar      1.0   \n",
            "\n",
            "             Status   Transaction           Type  Per_Sqft      Price  \n",
            "0     Ready_to_move        Resale      Apartment    8761.0   12500000  \n",
            "1     Ready_to_move  New_Property      Apartment    7290.0    3900000  \n",
            "2     Ready_to_move        Resale  Builder_Floor   14092.0   15000000  \n",
            "3      Almost_ready        Resale      Apartment   22222.0   25000000  \n",
            "4      Almost_ready        Resale      Apartment   22222.0   25000000  \n",
            "...             ...           ...            ...       ...        ...  \n",
            "1209   Almost_ready  New_Property      Apartment   28797.0  135000000  \n",
            "1210   Almost_ready  New_Property      Apartment   23840.0   93000000  \n",
            "1211   Almost_ready  New_Property      Apartment   24718.0   57000000  \n",
            "1212  Ready_to_move        Resale  Builder_Floor    5794.0    2900000  \n",
            "1213  Ready_to_move        Resale  Builder_Floor    5794.0    3200000  \n",
            "\n",
            "[1214 rows x 13 columns]\n"
          ]
        }
      ]
    },
    {
      "cell_type": "code",
      "source": [
        "data.info()"
      ],
      "metadata": {
        "colab": {
          "base_uri": "https://localhost:8080/"
        },
        "id": "k7d1ESm55TJm",
        "outputId": "4f93f200-dc1b-4b43-ddc7-c53a67edc365"
      },
      "execution_count": 73,
      "outputs": [
        {
          "output_type": "stream",
          "name": "stdout",
          "text": [
            "<class 'pandas.core.frame.DataFrame'>\n",
            "RangeIndex: 1214 entries, 0 to 1213\n",
            "Data columns (total 13 columns):\n",
            " #   Column       Non-Null Count  Dtype  \n",
            "---  ------       --------------  -----  \n",
            " 0   Area         1214 non-null   float64\n",
            " 1   BHK          1214 non-null   int64  \n",
            " 2   Bathroom     1212 non-null   float64\n",
            " 3   Furnishing   1214 non-null   object \n",
            " 4   Location     1214 non-null   object \n",
            " 5   District     1214 non-null   object \n",
            " 6   Locality     1214 non-null   object \n",
            " 7   Parking      1182 non-null   float64\n",
            " 8   Status       1214 non-null   object \n",
            " 9   Transaction  1214 non-null   object \n",
            " 10  Type         1209 non-null   object \n",
            " 11  Per_Sqft     973 non-null    float64\n",
            " 12  Price        1214 non-null   int64  \n",
            "dtypes: float64(4), int64(2), object(7)\n",
            "memory usage: 123.4+ KB\n"
          ]
        }
      ]
    },
    {
      "cell_type": "code",
      "source": [
        "data.describe()"
      ],
      "metadata": {
        "colab": {
          "base_uri": "https://localhost:8080/",
          "height": 300
        },
        "id": "ICwdJUgX5XKL",
        "outputId": "d0e47b88-14a9-4d96-dec5-0a61e689fc06"
      },
      "execution_count": 74,
      "outputs": [
        {
          "output_type": "execute_result",
          "data": {
            "text/plain": [
              "               Area          BHK     Bathroom      Parking       Per_Sqft  \\\n",
              "count   1214.000000  1214.000000  1212.000000  1182.000000     973.000000   \n",
              "mean    1451.850751     2.778418     2.523927     1.708122   15574.885920   \n",
              "std     1586.472855     0.946811     1.017723     5.717177   21574.389007   \n",
              "min       28.000000     1.000000     1.000000     1.000000    1259.000000   \n",
              "25%      800.000000     2.000000     2.000000     1.000000    6154.000000   \n",
              "50%     1150.000000     3.000000     2.000000     1.000000   10838.000000   \n",
              "75%     1620.000000     3.000000     3.000000     2.000000   17647.000000   \n",
              "max    24300.000000    10.000000     7.000000   114.000000  183333.000000   \n",
              "\n",
              "              Price  \n",
              "count  1.214000e+03  \n",
              "mean   2.079898e+07  \n",
              "std    2.561308e+07  \n",
              "min    1.000000e+06  \n",
              "25%    5.600000e+06  \n",
              "50%    1.400000e+07  \n",
              "75%    2.500000e+07  \n",
              "max    2.400000e+08  "
            ],
            "text/html": [
              "\n",
              "  <div id=\"df-39a1f254-7a96-402d-ab2e-916442941497\">\n",
              "    <div class=\"colab-df-container\">\n",
              "      <div>\n",
              "<style scoped>\n",
              "    .dataframe tbody tr th:only-of-type {\n",
              "        vertical-align: middle;\n",
              "    }\n",
              "\n",
              "    .dataframe tbody tr th {\n",
              "        vertical-align: top;\n",
              "    }\n",
              "\n",
              "    .dataframe thead th {\n",
              "        text-align: right;\n",
              "    }\n",
              "</style>\n",
              "<table border=\"1\" class=\"dataframe\">\n",
              "  <thead>\n",
              "    <tr style=\"text-align: right;\">\n",
              "      <th></th>\n",
              "      <th>Area</th>\n",
              "      <th>BHK</th>\n",
              "      <th>Bathroom</th>\n",
              "      <th>Parking</th>\n",
              "      <th>Per_Sqft</th>\n",
              "      <th>Price</th>\n",
              "    </tr>\n",
              "  </thead>\n",
              "  <tbody>\n",
              "    <tr>\n",
              "      <th>count</th>\n",
              "      <td>1214.000000</td>\n",
              "      <td>1214.000000</td>\n",
              "      <td>1212.000000</td>\n",
              "      <td>1182.000000</td>\n",
              "      <td>973.000000</td>\n",
              "      <td>1.214000e+03</td>\n",
              "    </tr>\n",
              "    <tr>\n",
              "      <th>mean</th>\n",
              "      <td>1451.850751</td>\n",
              "      <td>2.778418</td>\n",
              "      <td>2.523927</td>\n",
              "      <td>1.708122</td>\n",
              "      <td>15574.885920</td>\n",
              "      <td>2.079898e+07</td>\n",
              "    </tr>\n",
              "    <tr>\n",
              "      <th>std</th>\n",
              "      <td>1586.472855</td>\n",
              "      <td>0.946811</td>\n",
              "      <td>1.017723</td>\n",
              "      <td>5.717177</td>\n",
              "      <td>21574.389007</td>\n",
              "      <td>2.561308e+07</td>\n",
              "    </tr>\n",
              "    <tr>\n",
              "      <th>min</th>\n",
              "      <td>28.000000</td>\n",
              "      <td>1.000000</td>\n",
              "      <td>1.000000</td>\n",
              "      <td>1.000000</td>\n",
              "      <td>1259.000000</td>\n",
              "      <td>1.000000e+06</td>\n",
              "    </tr>\n",
              "    <tr>\n",
              "      <th>25%</th>\n",
              "      <td>800.000000</td>\n",
              "      <td>2.000000</td>\n",
              "      <td>2.000000</td>\n",
              "      <td>1.000000</td>\n",
              "      <td>6154.000000</td>\n",
              "      <td>5.600000e+06</td>\n",
              "    </tr>\n",
              "    <tr>\n",
              "      <th>50%</th>\n",
              "      <td>1150.000000</td>\n",
              "      <td>3.000000</td>\n",
              "      <td>2.000000</td>\n",
              "      <td>1.000000</td>\n",
              "      <td>10838.000000</td>\n",
              "      <td>1.400000e+07</td>\n",
              "    </tr>\n",
              "    <tr>\n",
              "      <th>75%</th>\n",
              "      <td>1620.000000</td>\n",
              "      <td>3.000000</td>\n",
              "      <td>3.000000</td>\n",
              "      <td>2.000000</td>\n",
              "      <td>17647.000000</td>\n",
              "      <td>2.500000e+07</td>\n",
              "    </tr>\n",
              "    <tr>\n",
              "      <th>max</th>\n",
              "      <td>24300.000000</td>\n",
              "      <td>10.000000</td>\n",
              "      <td>7.000000</td>\n",
              "      <td>114.000000</td>\n",
              "      <td>183333.000000</td>\n",
              "      <td>2.400000e+08</td>\n",
              "    </tr>\n",
              "  </tbody>\n",
              "</table>\n",
              "</div>\n",
              "      <button class=\"colab-df-convert\" onclick=\"convertToInteractive('df-39a1f254-7a96-402d-ab2e-916442941497')\"\n",
              "              title=\"Convert this dataframe to an interactive table.\"\n",
              "              style=\"display:none;\">\n",
              "        \n",
              "  <svg xmlns=\"http://www.w3.org/2000/svg\" height=\"24px\"viewBox=\"0 0 24 24\"\n",
              "       width=\"24px\">\n",
              "    <path d=\"M0 0h24v24H0V0z\" fill=\"none\"/>\n",
              "    <path d=\"M18.56 5.44l.94 2.06.94-2.06 2.06-.94-2.06-.94-.94-2.06-.94 2.06-2.06.94zm-11 1L8.5 8.5l.94-2.06 2.06-.94-2.06-.94L8.5 2.5l-.94 2.06-2.06.94zm10 10l.94 2.06.94-2.06 2.06-.94-2.06-.94-.94-2.06-.94 2.06-2.06.94z\"/><path d=\"M17.41 7.96l-1.37-1.37c-.4-.4-.92-.59-1.43-.59-.52 0-1.04.2-1.43.59L10.3 9.45l-7.72 7.72c-.78.78-.78 2.05 0 2.83L4 21.41c.39.39.9.59 1.41.59.51 0 1.02-.2 1.41-.59l7.78-7.78 2.81-2.81c.8-.78.8-2.07 0-2.86zM5.41 20L4 18.59l7.72-7.72 1.47 1.35L5.41 20z\"/>\n",
              "  </svg>\n",
              "      </button>\n",
              "      \n",
              "  <style>\n",
              "    .colab-df-container {\n",
              "      display:flex;\n",
              "      flex-wrap:wrap;\n",
              "      gap: 12px;\n",
              "    }\n",
              "\n",
              "    .colab-df-convert {\n",
              "      background-color: #E8F0FE;\n",
              "      border: none;\n",
              "      border-radius: 50%;\n",
              "      cursor: pointer;\n",
              "      display: none;\n",
              "      fill: #1967D2;\n",
              "      height: 32px;\n",
              "      padding: 0 0 0 0;\n",
              "      width: 32px;\n",
              "    }\n",
              "\n",
              "    .colab-df-convert:hover {\n",
              "      background-color: #E2EBFA;\n",
              "      box-shadow: 0px 1px 2px rgba(60, 64, 67, 0.3), 0px 1px 3px 1px rgba(60, 64, 67, 0.15);\n",
              "      fill: #174EA6;\n",
              "    }\n",
              "\n",
              "    [theme=dark] .colab-df-convert {\n",
              "      background-color: #3B4455;\n",
              "      fill: #D2E3FC;\n",
              "    }\n",
              "\n",
              "    [theme=dark] .colab-df-convert:hover {\n",
              "      background-color: #434B5C;\n",
              "      box-shadow: 0px 1px 3px 1px rgba(0, 0, 0, 0.15);\n",
              "      filter: drop-shadow(0px 1px 2px rgba(0, 0, 0, 0.3));\n",
              "      fill: #FFFFFF;\n",
              "    }\n",
              "  </style>\n",
              "\n",
              "      <script>\n",
              "        const buttonEl =\n",
              "          document.querySelector('#df-39a1f254-7a96-402d-ab2e-916442941497 button.colab-df-convert');\n",
              "        buttonEl.style.display =\n",
              "          google.colab.kernel.accessAllowed ? 'block' : 'none';\n",
              "\n",
              "        async function convertToInteractive(key) {\n",
              "          const element = document.querySelector('#df-39a1f254-7a96-402d-ab2e-916442941497');\n",
              "          const dataTable =\n",
              "            await google.colab.kernel.invokeFunction('convertToInteractive',\n",
              "                                                     [key], {});\n",
              "          if (!dataTable) return;\n",
              "\n",
              "          const docLinkHtml = 'Like what you see? Visit the ' +\n",
              "            '<a target=\"_blank\" href=https://colab.research.google.com/notebooks/data_table.ipynb>data table notebook</a>'\n",
              "            + ' to learn more about interactive tables.';\n",
              "          element.innerHTML = '';\n",
              "          dataTable['output_type'] = 'display_data';\n",
              "          await google.colab.output.renderOutput(dataTable, element);\n",
              "          const docLink = document.createElement('div');\n",
              "          docLink.innerHTML = docLinkHtml;\n",
              "          element.appendChild(docLink);\n",
              "        }\n",
              "      </script>\n",
              "    </div>\n",
              "  </div>\n",
              "  "
            ]
          },
          "metadata": {},
          "execution_count": 74
        }
      ]
    },
    {
      "cell_type": "code",
      "source": [
        "data.any().isnull()"
      ],
      "metadata": {
        "colab": {
          "base_uri": "https://localhost:8080/"
        },
        "id": "6Qb2WH2j5isH",
        "outputId": "87f1368d-f086-4ed9-efec-84d95ab5fc03"
      },
      "execution_count": 75,
      "outputs": [
        {
          "output_type": "execute_result",
          "data": {
            "text/plain": [
              "Area           False\n",
              "BHK            False\n",
              "Bathroom       False\n",
              "Furnishing     False\n",
              "Location       False\n",
              "District       False\n",
              "Locality       False\n",
              "Parking        False\n",
              "Status         False\n",
              "Transaction    False\n",
              "Type           False\n",
              "Per_Sqft       False\n",
              "Price          False\n",
              "dtype: bool"
            ]
          },
          "metadata": {},
          "execution_count": 75
        }
      ]
    },
    {
      "cell_type": "code",
      "source": [
        "data.head()"
      ],
      "metadata": {
        "colab": {
          "base_uri": "https://localhost:8080/",
          "height": 206
        },
        "id": "yqHvgQQE6BqP",
        "outputId": "611bf0e4-6d4a-47cd-8bd2-076b4e71de07"
      },
      "execution_count": 76,
      "outputs": [
        {
          "output_type": "execute_result",
          "data": {
            "text/plain": [
              "     Area  BHK  Bathroom Furnishing    Location       District  \\\n",
              "0   950.0    2       2.0  Furnished  Karol Bagh  Central Delhi   \n",
              "1   535.0    2       1.0  Furnished  Karol Bagh  Central Delhi   \n",
              "2  1280.0    3       3.0  Furnished  Karol Bagh  Central Delhi   \n",
              "3  1135.0    3       3.0  Furnished  Karol Bagh  Central Delhi   \n",
              "4  1135.0    3       3.0  Furnished  Karol Bagh  Central Delhi   \n",
              "\n",
              "                                            Locality  Parking         Status  \\\n",
              "0  DDA MIG Flats Prasad Nagar Phase 2, Prasad Nag...      1.0  Ready_to_move   \n",
              "1                              Dev Nagar, Karol Bagh      1.0  Ready_to_move   \n",
              "2                                         Karol Bagh      2.0  Ready_to_move   \n",
              "3                          The Amaryllis, Karol Bagh      2.0   Almost_ready   \n",
              "4                          The Amaryllis, Karol Bagh      2.0   Almost_ready   \n",
              "\n",
              "    Transaction           Type  Per_Sqft     Price  \n",
              "0        Resale      Apartment    8761.0  12500000  \n",
              "1  New_Property      Apartment    7290.0   3900000  \n",
              "2        Resale  Builder_Floor   14092.0  15000000  \n",
              "3        Resale      Apartment   22222.0  25000000  \n",
              "4        Resale      Apartment   22222.0  25000000  "
            ],
            "text/html": [
              "\n",
              "  <div id=\"df-6aed2741-290e-4797-ad3c-4b2177df2805\">\n",
              "    <div class=\"colab-df-container\">\n",
              "      <div>\n",
              "<style scoped>\n",
              "    .dataframe tbody tr th:only-of-type {\n",
              "        vertical-align: middle;\n",
              "    }\n",
              "\n",
              "    .dataframe tbody tr th {\n",
              "        vertical-align: top;\n",
              "    }\n",
              "\n",
              "    .dataframe thead th {\n",
              "        text-align: right;\n",
              "    }\n",
              "</style>\n",
              "<table border=\"1\" class=\"dataframe\">\n",
              "  <thead>\n",
              "    <tr style=\"text-align: right;\">\n",
              "      <th></th>\n",
              "      <th>Area</th>\n",
              "      <th>BHK</th>\n",
              "      <th>Bathroom</th>\n",
              "      <th>Furnishing</th>\n",
              "      <th>Location</th>\n",
              "      <th>District</th>\n",
              "      <th>Locality</th>\n",
              "      <th>Parking</th>\n",
              "      <th>Status</th>\n",
              "      <th>Transaction</th>\n",
              "      <th>Type</th>\n",
              "      <th>Per_Sqft</th>\n",
              "      <th>Price</th>\n",
              "    </tr>\n",
              "  </thead>\n",
              "  <tbody>\n",
              "    <tr>\n",
              "      <th>0</th>\n",
              "      <td>950.0</td>\n",
              "      <td>2</td>\n",
              "      <td>2.0</td>\n",
              "      <td>Furnished</td>\n",
              "      <td>Karol Bagh</td>\n",
              "      <td>Central Delhi</td>\n",
              "      <td>DDA MIG Flats Prasad Nagar Phase 2, Prasad Nag...</td>\n",
              "      <td>1.0</td>\n",
              "      <td>Ready_to_move</td>\n",
              "      <td>Resale</td>\n",
              "      <td>Apartment</td>\n",
              "      <td>8761.0</td>\n",
              "      <td>12500000</td>\n",
              "    </tr>\n",
              "    <tr>\n",
              "      <th>1</th>\n",
              "      <td>535.0</td>\n",
              "      <td>2</td>\n",
              "      <td>1.0</td>\n",
              "      <td>Furnished</td>\n",
              "      <td>Karol Bagh</td>\n",
              "      <td>Central Delhi</td>\n",
              "      <td>Dev Nagar, Karol Bagh</td>\n",
              "      <td>1.0</td>\n",
              "      <td>Ready_to_move</td>\n",
              "      <td>New_Property</td>\n",
              "      <td>Apartment</td>\n",
              "      <td>7290.0</td>\n",
              "      <td>3900000</td>\n",
              "    </tr>\n",
              "    <tr>\n",
              "      <th>2</th>\n",
              "      <td>1280.0</td>\n",
              "      <td>3</td>\n",
              "      <td>3.0</td>\n",
              "      <td>Furnished</td>\n",
              "      <td>Karol Bagh</td>\n",
              "      <td>Central Delhi</td>\n",
              "      <td>Karol Bagh</td>\n",
              "      <td>2.0</td>\n",
              "      <td>Ready_to_move</td>\n",
              "      <td>Resale</td>\n",
              "      <td>Builder_Floor</td>\n",
              "      <td>14092.0</td>\n",
              "      <td>15000000</td>\n",
              "    </tr>\n",
              "    <tr>\n",
              "      <th>3</th>\n",
              "      <td>1135.0</td>\n",
              "      <td>3</td>\n",
              "      <td>3.0</td>\n",
              "      <td>Furnished</td>\n",
              "      <td>Karol Bagh</td>\n",
              "      <td>Central Delhi</td>\n",
              "      <td>The Amaryllis, Karol Bagh</td>\n",
              "      <td>2.0</td>\n",
              "      <td>Almost_ready</td>\n",
              "      <td>Resale</td>\n",
              "      <td>Apartment</td>\n",
              "      <td>22222.0</td>\n",
              "      <td>25000000</td>\n",
              "    </tr>\n",
              "    <tr>\n",
              "      <th>4</th>\n",
              "      <td>1135.0</td>\n",
              "      <td>3</td>\n",
              "      <td>3.0</td>\n",
              "      <td>Furnished</td>\n",
              "      <td>Karol Bagh</td>\n",
              "      <td>Central Delhi</td>\n",
              "      <td>The Amaryllis, Karol Bagh</td>\n",
              "      <td>2.0</td>\n",
              "      <td>Almost_ready</td>\n",
              "      <td>Resale</td>\n",
              "      <td>Apartment</td>\n",
              "      <td>22222.0</td>\n",
              "      <td>25000000</td>\n",
              "    </tr>\n",
              "  </tbody>\n",
              "</table>\n",
              "</div>\n",
              "      <button class=\"colab-df-convert\" onclick=\"convertToInteractive('df-6aed2741-290e-4797-ad3c-4b2177df2805')\"\n",
              "              title=\"Convert this dataframe to an interactive table.\"\n",
              "              style=\"display:none;\">\n",
              "        \n",
              "  <svg xmlns=\"http://www.w3.org/2000/svg\" height=\"24px\"viewBox=\"0 0 24 24\"\n",
              "       width=\"24px\">\n",
              "    <path d=\"M0 0h24v24H0V0z\" fill=\"none\"/>\n",
              "    <path d=\"M18.56 5.44l.94 2.06.94-2.06 2.06-.94-2.06-.94-.94-2.06-.94 2.06-2.06.94zm-11 1L8.5 8.5l.94-2.06 2.06-.94-2.06-.94L8.5 2.5l-.94 2.06-2.06.94zm10 10l.94 2.06.94-2.06 2.06-.94-2.06-.94-.94-2.06-.94 2.06-2.06.94z\"/><path d=\"M17.41 7.96l-1.37-1.37c-.4-.4-.92-.59-1.43-.59-.52 0-1.04.2-1.43.59L10.3 9.45l-7.72 7.72c-.78.78-.78 2.05 0 2.83L4 21.41c.39.39.9.59 1.41.59.51 0 1.02-.2 1.41-.59l7.78-7.78 2.81-2.81c.8-.78.8-2.07 0-2.86zM5.41 20L4 18.59l7.72-7.72 1.47 1.35L5.41 20z\"/>\n",
              "  </svg>\n",
              "      </button>\n",
              "      \n",
              "  <style>\n",
              "    .colab-df-container {\n",
              "      display:flex;\n",
              "      flex-wrap:wrap;\n",
              "      gap: 12px;\n",
              "    }\n",
              "\n",
              "    .colab-df-convert {\n",
              "      background-color: #E8F0FE;\n",
              "      border: none;\n",
              "      border-radius: 50%;\n",
              "      cursor: pointer;\n",
              "      display: none;\n",
              "      fill: #1967D2;\n",
              "      height: 32px;\n",
              "      padding: 0 0 0 0;\n",
              "      width: 32px;\n",
              "    }\n",
              "\n",
              "    .colab-df-convert:hover {\n",
              "      background-color: #E2EBFA;\n",
              "      box-shadow: 0px 1px 2px rgba(60, 64, 67, 0.3), 0px 1px 3px 1px rgba(60, 64, 67, 0.15);\n",
              "      fill: #174EA6;\n",
              "    }\n",
              "\n",
              "    [theme=dark] .colab-df-convert {\n",
              "      background-color: #3B4455;\n",
              "      fill: #D2E3FC;\n",
              "    }\n",
              "\n",
              "    [theme=dark] .colab-df-convert:hover {\n",
              "      background-color: #434B5C;\n",
              "      box-shadow: 0px 1px 3px 1px rgba(0, 0, 0, 0.15);\n",
              "      filter: drop-shadow(0px 1px 2px rgba(0, 0, 0, 0.3));\n",
              "      fill: #FFFFFF;\n",
              "    }\n",
              "  </style>\n",
              "\n",
              "      <script>\n",
              "        const buttonEl =\n",
              "          document.querySelector('#df-6aed2741-290e-4797-ad3c-4b2177df2805 button.colab-df-convert');\n",
              "        buttonEl.style.display =\n",
              "          google.colab.kernel.accessAllowed ? 'block' : 'none';\n",
              "\n",
              "        async function convertToInteractive(key) {\n",
              "          const element = document.querySelector('#df-6aed2741-290e-4797-ad3c-4b2177df2805');\n",
              "          const dataTable =\n",
              "            await google.colab.kernel.invokeFunction('convertToInteractive',\n",
              "                                                     [key], {});\n",
              "          if (!dataTable) return;\n",
              "\n",
              "          const docLinkHtml = 'Like what you see? Visit the ' +\n",
              "            '<a target=\"_blank\" href=https://colab.research.google.com/notebooks/data_table.ipynb>data table notebook</a>'\n",
              "            + ' to learn more about interactive tables.';\n",
              "          element.innerHTML = '';\n",
              "          dataTable['output_type'] = 'display_data';\n",
              "          await google.colab.output.renderOutput(dataTable, element);\n",
              "          const docLink = document.createElement('div');\n",
              "          docLink.innerHTML = docLinkHtml;\n",
              "          element.appendChild(docLink);\n",
              "        }\n",
              "      </script>\n",
              "    </div>\n",
              "  </div>\n",
              "  "
            ]
          },
          "metadata": {},
          "execution_count": 76
        }
      ]
    },
    {
      "cell_type": "code",
      "source": [
        "data = data.drop([\"Area\",\"Locality\"],axis=1)"
      ],
      "metadata": {
        "id": "7KUbMw4Q6RLM"
      },
      "execution_count": 77,
      "outputs": []
    },
    {
      "cell_type": "code",
      "source": [
        "print(data)"
      ],
      "metadata": {
        "colab": {
          "base_uri": "https://localhost:8080/"
        },
        "id": "f8sntxOc6soo",
        "outputId": "3d54e211-af92-42a8-c13c-1c334cd41213"
      },
      "execution_count": null,
      "outputs": [
        {
          "output_type": "stream",
          "name": "stdout",
          "text": [
            "      BHK  Bathroom   Furnishing     Location       District  Parking  \\\n",
            "0       2       2.0    Furnished   Karol Bagh  Central Delhi      1.0   \n",
            "1       2       1.0    Furnished   Karol Bagh  Central Delhi      1.0   \n",
            "2       3       3.0    Furnished   Karol Bagh  Central Delhi      2.0   \n",
            "3       3       3.0    Furnished   Karol Bagh  Central Delhi      2.0   \n",
            "4       3       3.0    Furnished   Karol Bagh  Central Delhi      2.0   \n",
            "...   ...       ...          ...          ...            ...      ...   \n",
            "1209    5       4.0  Unfurnished  Patel Nagar     West Delhi      1.0   \n",
            "1210    4       4.0  Unfurnished  Patel Nagar     West Delhi      1.0   \n",
            "1211    3       3.0  Unfurnished  Patel Nagar     West Delhi      1.0   \n",
            "1212    2       1.0  Unfurnished  Uttam Nagar     West Delhi      1.0   \n",
            "1213    2       2.0  Unfurnished  Uttam Nagar     West Delhi      1.0   \n",
            "\n",
            "             Status   Transaction           Type  Per_Sqft      Price  \n",
            "0     Ready_to_move        Resale      Apartment    8761.0   12500000  \n",
            "1     Ready_to_move  New_Property      Apartment    7290.0    3900000  \n",
            "2     Ready_to_move        Resale  Builder_Floor   14092.0   15000000  \n",
            "3      Almost_ready        Resale      Apartment   22222.0   25000000  \n",
            "4      Almost_ready        Resale      Apartment   22222.0   25000000  \n",
            "...             ...           ...            ...       ...        ...  \n",
            "1209   Almost_ready  New_Property      Apartment   28797.0  135000000  \n",
            "1210   Almost_ready  New_Property      Apartment   23840.0   93000000  \n",
            "1211   Almost_ready  New_Property      Apartment   24718.0   57000000  \n",
            "1212  Ready_to_move        Resale  Builder_Floor    5794.0    2900000  \n",
            "1213  Ready_to_move        Resale  Builder_Floor    5794.0    3200000  \n",
            "\n",
            "[1214 rows x 11 columns]\n"
          ]
        }
      ]
    },
    {
      "cell_type": "code",
      "source": [
        "data=data.dropna()"
      ],
      "metadata": {
        "id": "JvHZV6aS7F5W"
      },
      "execution_count": 78,
      "outputs": []
    },
    {
      "cell_type": "code",
      "source": [
        "data['BHK'].unique()"
      ],
      "metadata": {
        "colab": {
          "base_uri": "https://localhost:8080/"
        },
        "id": "Y14NiksR7S7z",
        "outputId": "434dfa8a-694f-4524-f8f2-2ced4ebd2cdc"
      },
      "execution_count": 79,
      "outputs": [
        {
          "output_type": "execute_result",
          "data": {
            "text/plain": [
              "array([2, 3, 4, 5, 1, 6, 7])"
            ]
          },
          "metadata": {},
          "execution_count": 79
        }
      ]
    },
    {
      "cell_type": "code",
      "source": [
        "label_enc = preprocessing.LabelEncoder()"
      ],
      "metadata": {
        "id": "RFuA1O1j75oQ"
      },
      "execution_count": 80,
      "outputs": []
    },
    {
      "cell_type": "code",
      "source": [
        "data['Location'] = label_enc.fit_transform(data['Location'])\n",
        "data['BHK'] = label_enc.fit_transform(data['BHK'])\n",
        "data['Per_Sqft'] = label_enc.fit_transform(data['Per_Sqft'])"
      ],
      "metadata": {
        "id": "zhHvxB3U8Jp6"
      },
      "execution_count": 81,
      "outputs": []
    },
    {
      "cell_type": "code",
      "source": [
        "x = data[['Location','BHK','Bathroom','Per_Sqft']]\n",
        "y = data['Price']"
      ],
      "metadata": {
        "id": "6VH7y3Pg9NDy"
      },
      "execution_count": 83,
      "outputs": []
    },
    {
      "cell_type": "code",
      "source": [
        "model = LinearRegression()"
      ],
      "metadata": {
        "id": "fvlwuTkm9q2b"
      },
      "execution_count": 95,
      "outputs": []
    },
    {
      "cell_type": "code",
      "source": [
        "LinearRegression().fit(x,y)"
      ],
      "metadata": {
        "id": "wzd3wKM496JJ",
        "colab": {
          "base_uri": "https://localhost:8080/",
          "height": 74
        },
        "outputId": "4865face-3c5c-4f22-992f-48a0cc0c5ca4"
      },
      "execution_count": 103,
      "outputs": [
        {
          "output_type": "execute_result",
          "data": {
            "text/plain": [
              "LinearRegression()"
            ],
            "text/html": [
              "<style>#sk-container-id-2 {color: black;background-color: white;}#sk-container-id-2 pre{padding: 0;}#sk-container-id-2 div.sk-toggleable {background-color: white;}#sk-container-id-2 label.sk-toggleable__label {cursor: pointer;display: block;width: 100%;margin-bottom: 0;padding: 0.3em;box-sizing: border-box;text-align: center;}#sk-container-id-2 label.sk-toggleable__label-arrow:before {content: \"▸\";float: left;margin-right: 0.25em;color: #696969;}#sk-container-id-2 label.sk-toggleable__label-arrow:hover:before {color: black;}#sk-container-id-2 div.sk-estimator:hover label.sk-toggleable__label-arrow:before {color: black;}#sk-container-id-2 div.sk-toggleable__content {max-height: 0;max-width: 0;overflow: hidden;text-align: left;background-color: #f0f8ff;}#sk-container-id-2 div.sk-toggleable__content pre {margin: 0.2em;color: black;border-radius: 0.25em;background-color: #f0f8ff;}#sk-container-id-2 input.sk-toggleable__control:checked~div.sk-toggleable__content {max-height: 200px;max-width: 100%;overflow: auto;}#sk-container-id-2 input.sk-toggleable__control:checked~label.sk-toggleable__label-arrow:before {content: \"▾\";}#sk-container-id-2 div.sk-estimator input.sk-toggleable__control:checked~label.sk-toggleable__label {background-color: #d4ebff;}#sk-container-id-2 div.sk-label input.sk-toggleable__control:checked~label.sk-toggleable__label {background-color: #d4ebff;}#sk-container-id-2 input.sk-hidden--visually {border: 0;clip: rect(1px 1px 1px 1px);clip: rect(1px, 1px, 1px, 1px);height: 1px;margin: -1px;overflow: hidden;padding: 0;position: absolute;width: 1px;}#sk-container-id-2 div.sk-estimator {font-family: monospace;background-color: #f0f8ff;border: 1px dotted black;border-radius: 0.25em;box-sizing: border-box;margin-bottom: 0.5em;}#sk-container-id-2 div.sk-estimator:hover {background-color: #d4ebff;}#sk-container-id-2 div.sk-parallel-item::after {content: \"\";width: 100%;border-bottom: 1px solid gray;flex-grow: 1;}#sk-container-id-2 div.sk-label:hover label.sk-toggleable__label {background-color: #d4ebff;}#sk-container-id-2 div.sk-serial::before {content: \"\";position: absolute;border-left: 1px solid gray;box-sizing: border-box;top: 0;bottom: 0;left: 50%;z-index: 0;}#sk-container-id-2 div.sk-serial {display: flex;flex-direction: column;align-items: center;background-color: white;padding-right: 0.2em;padding-left: 0.2em;position: relative;}#sk-container-id-2 div.sk-item {position: relative;z-index: 1;}#sk-container-id-2 div.sk-parallel {display: flex;align-items: stretch;justify-content: center;background-color: white;position: relative;}#sk-container-id-2 div.sk-item::before, #sk-container-id-2 div.sk-parallel-item::before {content: \"\";position: absolute;border-left: 1px solid gray;box-sizing: border-box;top: 0;bottom: 0;left: 50%;z-index: -1;}#sk-container-id-2 div.sk-parallel-item {display: flex;flex-direction: column;z-index: 1;position: relative;background-color: white;}#sk-container-id-2 div.sk-parallel-item:first-child::after {align-self: flex-end;width: 50%;}#sk-container-id-2 div.sk-parallel-item:last-child::after {align-self: flex-start;width: 50%;}#sk-container-id-2 div.sk-parallel-item:only-child::after {width: 0;}#sk-container-id-2 div.sk-dashed-wrapped {border: 1px dashed gray;margin: 0 0.4em 0.5em 0.4em;box-sizing: border-box;padding-bottom: 0.4em;background-color: white;}#sk-container-id-2 div.sk-label label {font-family: monospace;font-weight: bold;display: inline-block;line-height: 1.2em;}#sk-container-id-2 div.sk-label-container {text-align: center;}#sk-container-id-2 div.sk-container {/* jupyter's `normalize.less` sets `[hidden] { display: none; }` but bootstrap.min.css set `[hidden] { display: none !important; }` so we also need the `!important` here to be able to override the default hidden behavior on the sphinx rendered scikit-learn.org. See: https://github.com/scikit-learn/scikit-learn/issues/21755 */display: inline-block !important;position: relative;}#sk-container-id-2 div.sk-text-repr-fallback {display: none;}</style><div id=\"sk-container-id-2\" class=\"sk-top-container\"><div class=\"sk-text-repr-fallback\"><pre>LinearRegression()</pre><b>In a Jupyter environment, please rerun this cell to show the HTML representation or trust the notebook. <br />On GitHub, the HTML representation is unable to render, please try loading this page with nbviewer.org.</b></div><div class=\"sk-container\" hidden><div class=\"sk-item\"><div class=\"sk-estimator sk-toggleable\"><input class=\"sk-toggleable__control sk-hidden--visually\" id=\"sk-estimator-id-2\" type=\"checkbox\" checked><label for=\"sk-estimator-id-2\" class=\"sk-toggleable__label sk-toggleable__label-arrow\">LinearRegression</label><div class=\"sk-toggleable__content\"><pre>LinearRegression()</pre></div></div></div></div></div>"
            ]
          },
          "metadata": {},
          "execution_count": 103
        }
      ]
    },
    {
      "cell_type": "code",
      "source": [
        "model.predict(x)"
      ],
      "metadata": {
        "colab": {
          "base_uri": "https://localhost:8080/"
        },
        "id": "fiJkKAYSFITJ",
        "outputId": "9fdc9845-2462-463f-e96d-9c20adb0e258"
      },
      "execution_count": 107,
      "outputs": [
        {
          "output_type": "execute_result",
          "data": {
            "text/plain": [
              "array([ 1.22629507e+07, -6.63521930e+06,  3.30058648e+07,  3.72761432e+07,\n",
              "        3.72761432e+07,  3.32905500e+07,  3.24364943e+07,  1.72157907e+07,\n",
              "        5.66958609e+07,  2.69912610e+07,  1.35169857e+07,  1.35169857e+07,\n",
              "        3.08019394e+07,  1.17671367e+07, -9.62853297e+05,  9.87152725e+06,\n",
              "        7.75764961e+07,  1.99260103e+07,  1.99260103e+07,  1.70791580e+07,\n",
              "        1.99260103e+07,  2.17577930e+07,  2.14616879e+07,  2.39012721e+07,\n",
              "       -1.07519216e+07,  1.36501629e+07,  9.70630729e+06,  1.72157907e+07,\n",
              "       -1.00750727e+07, -1.09291284e+07,  3.91113064e+07,  4.40476632e+06,\n",
              "        2.39948897e+07,  2.05281395e+07,  8.53841206e+06,  3.78130931e+07,\n",
              "        2.14050348e+07,  7.50542453e+06, -1.21595328e+07, -8.89136256e+06,\n",
              "       -1.28237983e+07,  5.07226346e+06,  4.82931586e+06, -1.18748476e+07,\n",
              "       -1.05804274e+07,  4.49107644e+07,  2.35035848e+07,  4.89010001e+06,\n",
              "        1.03522768e+07,  1.91728430e+06,  1.29251132e+07,  1.86214477e+07,\n",
              "        1.98941914e+07,  1.86214477e+07,  3.19002798e+06,  2.36508868e+07,\n",
              "       -1.03496502e+07,  6.47224798e+06, -1.33748728e+07,  9.69868058e+06,\n",
              "       -1.23310269e+07,  6.98846099e+06,  2.76364800e+07,  3.59455091e+07,\n",
              "        4.33385352e+07,  8.98125760e+06,  3.37515025e+07,  1.43485393e+07,\n",
              "        3.63250894e+07,  1.96095062e+07,  3.61656171e+07,  7.01661540e+07,\n",
              "        1.94614536e+07,  1.14407393e+06,  3.48485058e+07,  1.26290081e+07,\n",
              "        5.97320240e+06,  5.40569057e+07,  5.79081583e+07,  5.05861730e+07,\n",
              "        1.94195270e+07,  1.25028557e+07,  1.90506160e+07,  9.84579356e+06,\n",
              "        1.94301963e+07,  1.94301963e+07,  3.62824122e+07,  2.19445406e+07,\n",
              "       -1.43474542e+07,  2.71801116e+07, -1.35882936e+07,  3.27105102e+07,\n",
              "        3.38279126e+07,  3.69863124e+07,  2.46476603e+07,  3.06677878e+07,\n",
              "        2.44996078e+07,  3.28789618e+07,  3.28789618e+07,  1.90452813e+07,\n",
              "        1.32035242e+07,  9.96511728e+07,  1.71529035e+07,  7.12599257e+07,\n",
              "        7.12599257e+07,  1.73009560e+07, -1.35435134e+07,  4.33673349e+06,\n",
              "        3.02624738e+07,  1.31141528e+07,  1.68796381e+07,  4.45717324e+06,\n",
              "        2.13093892e+07,  1.46109464e+07,  8.44276646e+06,  3.83096576e+07,\n",
              "        1.46109464e+07,  1.46109464e+07,  3.14631624e+07,  4.45717324e+06,\n",
              "        3.14193217e+07,  3.23682725e+07,  6.73025997e+06,  3.66886658e+07,\n",
              "        3.61724528e+07,  1.91721843e+07,  1.27610567e+07,  3.26582923e+07,\n",
              "        3.10450760e+07,  4.51453348e+07,  1.25211517e+07,  2.48894682e+06,\n",
              "        2.48894682e+06,  2.48894682e+06,  1.68596520e+07, -2.88668995e+05,\n",
              "       -3.97815716e+06,  1.71025996e+07,  3.52833466e+07,  6.60835378e+06,\n",
              "        1.02169966e+07,  2.91151666e+07,  3.32905500e+07,  1.70077045e+07,\n",
              "        5.07121364e+07,  3.38599205e+07,  3.32905500e+07,  1.64383341e+07,\n",
              "        3.33854451e+07,  3.32905500e+07,  1.54362258e+07,  1.54362258e+07,\n",
              "        3.24364943e+07,  2.85223545e+07,  2.92574180e+06,  1.80698464e+07,\n",
              "        5.82838148e+06,  1.21446140e+07,  9.70630729e+06,  1.55810304e+06,\n",
              "        3.07379432e+06, -1.52941129e+07,  1.45608316e+07, -3.90460067e+06,\n",
              "        1.16190842e+07,  2.95683034e+07,  1.58893626e+07,  1.38548284e+07,\n",
              "       -9.07067243e+06,  1.05335007e+07,  1.35169857e+07,  2.69912610e+07,\n",
              "        2.04953807e+07, -3.06560938e+06,  1.01390450e+07,  2.16097405e+07,\n",
              "       -1.27980646e+07, -6.44009450e+06,  1.04121214e+07,  1.04121214e+07,\n",
              "        2.74123899e+07, -6.44009450e+06,  4.75752453e+06,  1.36385540e+07,\n",
              "        1.36385540e+07, -6.44009450e+06,  7.04905613e+06,  9.70630729e+06,\n",
              "        2.67065757e+07,  2.67065757e+07,  2.47682891e+07,  5.41998126e+07,\n",
              "        1.80698464e+07,  4.58490459e+07,  2.88487774e+07,  1.85583715e+07,\n",
              "        5.97643401e+06,  5.66811343e+07,  3.96808659e+07,  2.67065757e+07,\n",
              "        9.85435981e+06,  6.62909071e+06,  2.38582570e+07,  4.97413678e+06,\n",
              "       -8.89459416e+06, -1.10771809e+07,  3.83862746e+06, -1.16850574e+07,\n",
              "       -1.15901623e+07, -1.18748476e+07,  6.27178853e+06,  7.50542453e+06,\n",
              "        7.50542453e+06,  7.12584422e+06,  7.88500483e+06, -1.12446929e+07,\n",
              "        8.49611292e+06,  2.62972796e+07,  2.61606469e+07,  9.30843098e+06,\n",
              "       -1.11497979e+07,  6.74626391e+06,  2.69198075e+07,  6.93605407e+06,\n",
              "        9.25527353e+06,  6.65136884e+06,  2.27861618e+07,  3.99230630e+07,\n",
              "       -1.03906373e+07,  7.73695231e+06,  7.73695231e+06,  7.64205723e+06,\n",
              "       -9.06210618e+06,  7.79010976e+06,  4.14945416e+07,  4.14945416e+07,\n",
              "        7.64205723e+06,  7.64205723e+06,  7.64205723e+06,  7.64205723e+06,\n",
              "        7.50542453e+06,  7.50542453e+06,  6.27178853e+06,  6.27178853e+06,\n",
              "        2.31240045e+07,  2.29759519e+07,  6.12373601e+06,  4.89010001e+06,\n",
              "        3.99762204e+07,  6.27178853e+06,  3.87425844e+07,  4.89010001e+06,\n",
              "        4.89010001e+06,  4.89010001e+06,  4.89010001e+06,  3.87425844e+07,\n",
              "        7.50542453e+06,  2.42095879e+07,  2.42095879e+07,  6.27178853e+06,\n",
              "        6.27178853e+06,  6.27178853e+06,  2.17423159e+07,  2.17423159e+07,\n",
              "        3.68306331e+07,  3.68306331e+07,  7.50542453e+06,  6.12373601e+06,\n",
              "        1.02042243e+07,  6.27178853e+06,  6.27178853e+06,  6.27178853e+06,\n",
              "       -6.49993912e+06,  5.03815254e+06,  6.12373601e+06,  5.99777259e+06,\n",
              "        6.47224798e+06,  6.32419545e+06,  1.76923178e+06,  2.31764114e+07,\n",
              "        2.33244639e+07,  1.76923178e+06,  6.32419545e+06,  6.32419545e+06,\n",
              "        6.47224798e+06,  6.94672336e+06, -1.00535451e+07,  6.32419545e+06,\n",
              "        3.85429352e+06,  2.86623507e+06,  7.89567412e+06,  1.69756966e+07,\n",
              "        1.69756966e+07,  1.23480699e+05,  3.28789618e+07,  1.69756966e+07,\n",
              "        1.69756966e+07,  1.23480699e+05,  3.28789618e+07,  1.64884489e+07,\n",
              "        2.73281641e+07,  3.76867919e+07,  3.76867919e+07,  2.02821489e+07,\n",
              "        5.82514988e+06,  5.82514988e+06,  5.82514988e+06,  5.97320240e+06,\n",
              "        2.28254183e+07,  2.28254183e+07,  5.97320240e+06, -1.10270661e+07,\n",
              "        2.28254183e+07, -1.08790135e+07,  2.28254183e+07,  3.79638504e+07,\n",
              "        7.18163348e+07,  3.79638504e+07,  3.79638504e+07,  3.81119029e+07,\n",
              "        3.79638504e+07,  3.72046898e+07,  2.03524738e+07,  6.17574567e+07,\n",
              "        4.47571882e+07,  2.79049723e+07,  2.79049723e+07,  4.49052407e+07,\n",
              "        2.79049723e+07,  1.65035133e+07,  3.35037818e+07,  1.65035133e+07,\n",
              "        3.35037818e+07,  3.72046898e+07,  3.70365761e+07,  3.70365761e+07,\n",
              "        4.10559423e+07,  6.91615647e+07,  3.54571328e+07,  6.74383889e+07,\n",
              "        6.03212582e+07,  4.33209897e+07,  5.62053815e+07,  3.66961035e+07,\n",
              "        5.62053815e+07,  3.66961035e+07,  3.81696445e+07,  5.58759161e+07,\n",
              "        5.58759161e+07,  5.32720114e+07,  5.32720114e+07,  7.22119190e+07,\n",
              "        5.29341687e+07,  7.27281320e+07,  3.90237002e+07,  7.47740861e+07,\n",
              "        6.99344372e+07,  5.63503915e+07,  7.06852206e+07,  5.38330046e+07,\n",
              "        5.38330046e+07,  5.38330046e+07,  3.69807887e+07,  4.83290902e+07,\n",
              "        1.46246583e+07,  7.13077485e+07,  2.04549956e+07,  5.74390175e+07,\n",
              "        5.18402080e+07,  7.09281682e+07,  3.70756838e+07,  5.39278997e+07,\n",
              "        5.40227948e+07,  3.71705788e+07,  5.40227948e+07,  3.71705788e+07,\n",
              "        5.40227948e+07,  7.10230632e+07,  7.10230632e+07,  5.23093488e+07,\n",
              "        1.65856361e+07,  7.08940572e+07,  7.01348966e+07,  2.01893569e+07,\n",
              "        2.01893569e+07,  2.01893569e+07,  2.93550716e+07,  1.25028557e+07,\n",
              "        2.93550716e+07,  3.59028319e+07,  3.59028319e+07,  1.90506160e+07,\n",
              "        3.59028319e+07,  2.68460620e+07,  9.84579356e+06,  2.66980095e+07,\n",
              "        9.84579356e+06,  2.66980095e+07,  9.84579356e+06,  2.66980095e+07,\n",
              "        3.70415728e+07,  3.79905236e+07,  5.73100115e+07,  4.04577956e+07,\n",
              "        3.49538812e+07,  3.49538812e+07,  3.49538812e+07,  3.46691959e+07,\n",
              "        7.47603742e+07,  4.10559423e+07,  1.03310154e+08,  5.24574013e+07,\n",
              "        5.30685094e+07,  5.48595469e+06,  5.33790216e+06,  2.19445406e+07,\n",
              "       -1.13662613e+07,  5.48595469e+06, -1.15143138e+07,  8.46943969e+06,\n",
              "        7.23580369e+06,  2.19445406e+07, -1.33173202e+07,  2.22823832e+07,\n",
              "        1.67336886e+07,  1.67336886e+07,  1.67336886e+07,  1.65856361e+07,\n",
              "        1.67336886e+07,  5.04381205e+07,  2.64687738e+07,  9.46850531e+06,\n",
              "        3.37339570e+07,  2.50476174e+06,  1.93569777e+07,  4.78224358e+06,\n",
              "       -1.45372443e+07,  4.07624042e+06,  1.03278956e+07,  1.93569777e+07,\n",
              "        7.02671342e+07,  3.38279126e+07,  3.38279126e+07,  5.79081583e+07,\n",
              "        5.79081583e+07,  5.79081583e+07,  3.54571328e+07,  6.93096172e+07,\n",
              "        3.54571328e+07,  6.93096172e+07,  5.23093488e+07,  5.51562011e+07,\n",
              "        3.83039851e+07,  7.21564695e+07,  5.51562011e+07,  5.51562011e+07,\n",
              "        9.17743546e+07,  1.08343789e+07,  1.94143814e+07,  3.38279126e+07,\n",
              "        3.38279126e+07,  4.14998763e+07,  3.64146498e+07,  1.94143814e+07,\n",
              "        3.36626926e+07,  5.31239589e+07,  3.60819528e+07,  3.94981755e+07,\n",
              "        3.45584859e+07,  5.32668658e+07,  7.02671342e+07,  5.32668658e+07,\n",
              "        1.94143814e+07,  2.46476603e+07,  4.85752694e+07,  4.84272169e+07,\n",
              "        3.36626926e+07,  5.05149085e+07,  3.34729025e+07,  5.03251184e+07,\n",
              "        1.67573192e+07,  2.99086272e+07,  3.00566797e+07,  6.39091641e+07,\n",
              "        4.69088956e+07,  3.64146498e+07,  3.83594346e+07,  1.08343789e+07,\n",
              "        1.08343789e+07,  4.48349158e+07,  1.26905428e+07,  1.55373951e+07,\n",
              "        3.23896110e+07,  3.28188047e+06,  3.71343649e+07,  1.17415920e+07,\n",
              "        1.31118607e+07,  1.23109625e+07,  1.25956477e+07,  2.98274440e+07,\n",
              "        2.64687738e+07,  3.64327568e+07,  5.20132437e+07,  5.09232462e+06,\n",
              "        3.70415728e+07,  3.70415728e+07,  1.25028557e+07,  1.60267459e+07,\n",
              "        1.60267459e+07,  1.54371654e+07,  3.03518452e+07,  3.02037927e+07,\n",
              "        1.90452813e+07,  3.60455498e+07,  1.90452813e+07,  1.33515767e+07,\n",
              "        9.78730147e+06,  3.23863794e+07, -1.75822788e+06,  1.52420406e+07,\n",
              "        1.52420406e+07,  3.20942565e+07,  3.59849547e+07,  5.28371706e+07,\n",
              "        5.28371706e+07,  3.20942565e+07,  3.20942565e+07,  4.89464725e+07,\n",
              "        1.52420406e+07,  6.59467409e+07,  3.20942565e+07,  4.89464725e+07,\n",
              "        6.59467409e+07,  3.20942565e+07,  4.89464725e+07,  4.89464725e+07,\n",
              "        5.25524854e+07,  1.50766316e+07,  1.49285791e+07,  3.35838015e+07,\n",
              "        2.74573591e+07,  1.47805266e+07,  1.65835330e+07,  1.34102579e+07,\n",
              "        2.83422719e+06, -1.28792478e+07,  1.09003087e+07,  3.16065005e+06,\n",
              "        9.13903987e+06, -1.07915561e+07,  3.30870257e+06,  2.01609185e+07,\n",
              "        3.16065005e+06,  2.01609185e+07,  2.09574216e+07,  1.35324849e+06,\n",
              "        1.35324849e+06,  8.94485461e+06,  4.25325823e+06,  1.35324849e+06,\n",
              "        1.90090674e+07,  1.71529035e+07,  1.73009560e+07,  4.71146897e+07,\n",
              "        1.90090674e+07,  1.65835330e+07,  1.73009560e+07,  6.97760268e+06,\n",
              "        6.97760268e+06,  6.97760268e+06,  2.14574417e+07,  2.14574417e+07,\n",
              "        3.88232407e+07,  3.88232407e+07,  2.14574417e+07,  2.14574417e+07,\n",
              "        3.84577102e+07,  8.97039929e+06,  8.82234676e+06,  8.44276646e+06,\n",
              "        4.45717324e+06, -1.22469902e+07,  1.47589990e+07,  2.14574417e+07,\n",
              "        4.30912072e+06,  3.83096576e+07, -1.23950427e+07,  2.14574417e+07,\n",
              "        2.14574417e+07,  8.82234676e+06,  2.56745627e+07, -1.32490984e+07,\n",
              "       -1.32490984e+07, -1.32490984e+07,  4.45717324e+06,  2.18229722e+07,\n",
              "        2.18229722e+07,  4.45717324e+06,  4.45717324e+06, -4.42595931e+06,\n",
              "        1.68499222e+07, -1.33615941e+06,  1.38891283e+07,  2.82323347e+07,\n",
              "        2.82323347e+07,  6.71142581e+07,  1.27503874e+07,  4.67585511e+07,\n",
              "        3.22202199e+07,  5.19916641e+06,  5.19916641e+06,  5.19916641e+06,\n",
              "        1.55160565e+07,  1.40371809e+07,  1.12320662e+07,  1.27503874e+07,\n",
              "        1.28984399e+07,  4.67153358e+06,  1.58060764e+07,  1.74823689e+07,\n",
              "        5.05111389e+06,  1.74823689e+07,  3.25163250e+07,  1.53680040e+07,\n",
              "        1.53680040e+07,  2.94265251e+07,  3.60244002e+07,  2.58706270e+07,\n",
              "        2.18709841e+07,  2.71042630e+07, -2.70947070e+06,  2.70093680e+07,\n",
              "        1.90241318e+07,  6.98768846e+07,  4.27228430e+07,  1.02520471e+07,\n",
              "        2.71042630e+07,  3.64571380e+07, -1.58581487e+07,  2.99063351e+07,\n",
              "        4.95105083e+07,  9.25831612e+06,  2.99063351e+07,  1.30541192e+07,\n",
              "        2.99063351e+07,  2.99063351e+07,  2.99063351e+07, -5.55936558e+06,\n",
              "        4.67585511e+07,  2.99063351e+07,  6.36107670e+07,  3.26582923e+07,\n",
              "        2.95214202e+07,  1.24262566e+07,  2.58706270e+07,  5.05111389e+06,\n",
              "       -1.16530495e+07,  5.05111389e+06,  5.19916641e+06,  6.33790733e+06,\n",
              "       -1.05143086e+07,  4.81958611e+06,  5.19916641e+06, -1.18011020e+07,\n",
              "        5.19916641e+06,  6.33790733e+06, -1.21806824e+07,  3.30058648e+07,\n",
              "        2.34605697e+07,  1.22629507e+07,  1.71025996e+07,  1.00710834e+08,\n",
              "        4.98580807e+07,  5.97643401e+06,  3.47322721e+07,  3.47322721e+07,\n",
              "       -2.99738753e+06, -8.14800773e+05, -5.08507922e+06, -3.18717769e+06,\n",
              "        1.29476153e+07, -3.90460067e+06, -7.07787583e+06,  1.16722416e+07,\n",
              "       -4.43223350e+06, -2.99738753e+06,  7.78154351e+06, -6.83263616e+06,\n",
              "        9.87152725e+06, -6.98068869e+06,  1.73638432e+07,  1.82178989e+07,\n",
              "        2.04953807e+07,  2.04953807e+07,  6.28493143e+07,  2.17577930e+07,\n",
              "        2.19058455e+07,  1.21446140e+07,  4.75752453e+06,  4.75752453e+06,\n",
              "        4.05415131e+06,  1.05601740e+07,  3.84619564e+07,  7.04905613e+06,\n",
              "        1.42610819e+07, -2.73918652e+06,  1.36385540e+07,  9.04185273e+06,\n",
              "        4.05415131e+06,  5.72052505e+06,  1.99260103e+07,  1.73638432e+07,\n",
              "        2.67065757e+07,  9.85435981e+06,  5.92308754e+06,  7.42735901e+06,\n",
              "       -1.16850574e+07, -1.18748476e+07, -1.19697426e+07, -1.16850574e+07,\n",
              "       -1.16850574e+07, -1.26340082e+07, -1.31084836e+07, -1.18748476e+07,\n",
              "       -1.41523294e+07, -7.88925434e+06, -7.88925434e+06, -1.31084836e+07,\n",
              "       -1.28237983e+07,  4.02841762e+06,  2.13051608e+06, -1.14952673e+07,\n",
              "       -1.31084836e+07,  4.02841762e+06,  2.31240045e+07,  3.87425844e+07,\n",
              "        6.47224798e+06, -1.05280205e+07, -1.05280205e+07, -1.05280205e+07,\n",
              "        6.47224798e+06, -1.05280205e+07,  6.94672336e+06, -1.50829842e+07,\n",
              "       -1.21412368e+07,  2.86623507e+06, -9.33612212e+06, -5.36194872e+06,\n",
              "        4.81729405e+06,  1.68276441e+07,  1.69756966e+07,  1.68276441e+07,\n",
              "        3.38279126e+07,  1.68276441e+07,  1.69756966e+07,  1.68276441e+07,\n",
              "        3.38279126e+07,  2.73281641e+07, -1.35882936e+07,  1.38155719e+07,\n",
              "       -1.37780837e+07,  5.97320240e+06,  5.97320240e+06,  3.72046898e+07,\n",
              "       -5.94751214e+06,  2.79049723e+07,  6.73562662e+07,  3.35037818e+07,\n",
              "        1.66515658e+07,  3.98256868e+07,  5.04381205e+07,  6.03212582e+07,\n",
              "        8.85395447e+07,  8.85395447e+07,  4.95627262e+07,  4.95627262e+07,\n",
              "        5.58759161e+07,  4.09216017e+07,  5.32720114e+07,  5.31239589e+07,\n",
              "        7.22119190e+07,  5.29341687e+07,  3.67909985e+07,  3.70756838e+07,\n",
              "        3.70756838e+07,  5.40227948e+07,  3.71705788e+07,  2.03183629e+07,\n",
              "        1.65856361e+07,  2.01893569e+07,  9.84579356e+06,  9.84579356e+06,\n",
              "        9.84579356e+06,  9.84579356e+06,  9.84579356e+06,  9.84579356e+06,\n",
              "        2.66980095e+07,  9.84579356e+06,  5.38937888e+07,  3.70415728e+07,\n",
              "        6.87114705e+07,  4.04577956e+07,  4.04577956e+07,  3.62824122e+07,\n",
              "        3.46691959e+07,  3.46691959e+07,  3.46691959e+07,  6.93096172e+07,\n",
              "        3.54571328e+07,  5.48595469e+06, -1.31692677e+07,  3.68294823e+06,\n",
              "        7.38385622e+06,  5.33790216e+06, -1.13662613e+07,  1.67336886e+07,\n",
              "        1.67336886e+07, -1.18527359e+05,  9.61655784e+06,  7.47740861e+07,\n",
              "        1.93569777e+07,  1.93569777e+07, -1.43474542e+07,  2.35670922e+06,\n",
              "        2.73281641e+07,  2.73281641e+07,  2.73281641e+07, -1.45372443e+07,\n",
              "        2.16691907e+06, -1.46321394e+07,  3.07413220e+06,  9.75852519e+06,\n",
              "        6.11077465e+06,  1.69756966e+07,  1.69756966e+07,  5.23093488e+07,\n",
              "        5.51562011e+07,  5.79081583e+07,  1.69756966e+07,  1.60267459e+07,\n",
              "        1.58786933e+07,  1.69756966e+07,  1.60267459e+07,  1.58786933e+07,\n",
              "        2.78346474e+07, -5.86978450e+06,  1.55373951e+07,  3.38279126e+07,\n",
              "        3.38279126e+07,  3.90237002e+07,  2.46476603e+07,  3.37575877e+07,\n",
              "        3.90237002e+07,  5.30822212e+07,  4.48349158e+07,  1.08343789e+07,\n",
              "        2.95427588e+07,  1.26905428e+07, -5.86978450e+06,  3.64327568e+07,\n",
              "        3.70415728e+07,  3.70415728e+07,  9.84579356e+06, -1.31989835e+07,\n",
              "        1.90452813e+07,  1.90452813e+07,  1.33515767e+07,  3.58974973e+07,\n",
              "        1.54371654e+07,  1.52891129e+07, -1.61017535e+06,  1.50939881e+07,\n",
              "        1.52420406e+07,  4.89464725e+07,  1.52420406e+07,  4.89464725e+07,\n",
              "        6.59467409e+07,  3.20942565e+07,  3.17807950e+07,  1.67315855e+07,\n",
              "        1.68796381e+07, -5.95190724e+06,  4.86876143e+06,  2.01609185e+07,\n",
              "        3.16065005e+06,  2.01609185e+07, -1.54989674e+07,  1.35324849e+06,\n",
              "        8.78773107e+05, -1.54989674e+07,  1.49285791e+07,  5.04360174e+07,\n",
              "        4.00924541e+07,  2.13093892e+07,  3.97330838e+07,  3.97330838e+07,\n",
              "        3.97330838e+07,  8.59081898e+06,  4.45717324e+06,  4.45717324e+06,\n",
              "        2.12536018e+07,  2.12536018e+07,  4.60522576e+06,  5.02654370e+06,\n",
              "        5.02654370e+06,  5.02654370e+06,  2.13093892e+07,  4.45717324e+06,\n",
              "        4.45717324e+06,  4.45717324e+06,  6.35507477e+06,  6.35507477e+06,\n",
              "        6.35507477e+06,  1.55160565e+07, -1.34224459e+06,  9.48450925e+06,\n",
              "        4.50845506e+07,  4.89752487e+07,  3.08893968e+07,  1.12320662e+07,\n",
              "        6.20848191e+07,  5.74349603e+07,  2.97506559e+07,  1.24262566e+07,\n",
              "        5.19916641e+06,  1.12320662e+07,  1.12320662e+07,  2.82323347e+07,\n",
              "        6.36031403e+07,  1.27503874e+07,  1.45671058e+07,  2.96694727e+07,\n",
              "        3.22202199e+07,  1.53680040e+07,  2.95214202e+07,  1.55160565e+07,\n",
              "        1.55160565e+07, -2.28511018e+06,  1.90241318e+07, -3.94310670e+06,\n",
              "        2.99511153e+07,  1.39946927e+07,  3.09949612e+07,  2.69144729e+07,\n",
              "        4.67585511e+07,  3.26582923e+07,  1.58060764e+07,  2.99063351e+07,\n",
              "        6.36107670e+07,  2.13016136e+07,  5.35826193e+07,  5.28766162e+07,\n",
              "        3.63090855e+07,  5.35826193e+07,  5.28766162e+07,  3.63090855e+07,\n",
              "        5.35826193e+07,  5.28766162e+07,  3.63090855e+07, -1.21806824e+07,\n",
              "        4.81958611e+06])"
            ]
          },
          "metadata": {},
          "execution_count": 107
        }
      ]
    },
    {
      "cell_type": "code",
      "source": [
        "model.score(x,y)*100"
      ],
      "metadata": {
        "colab": {
          "base_uri": "https://localhost:8080/"
        },
        "id": "0120XLrhFY41",
        "outputId": "feaab53f-8b9b-4274-dae1-6449b3f76752"
      },
      "execution_count": 99,
      "outputs": [
        {
          "output_type": "execute_result",
          "data": {
            "text/plain": [
              "57.45501167022924"
            ]
          },
          "metadata": {},
          "execution_count": 99
        }
      ]
    }
  ]
}